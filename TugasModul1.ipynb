{
 "cells": [
  {
   "cell_type": "markdown",
   "metadata": {},
   "source": [
    "### 5 Situs Yang Sering Dikunjungi\n",
    "1. [Youtube](https://www.youtube.com/)\n",
    "2. [Pinterest](https://id.pinterest.com/)\n",
    "3. [Spotify](https://open.spotify.com/)\n",
    "4. [ChatGPT](https://chatgpt.com/)\n",
    "5. [Github](https://github.com/)"
   ]
  },
  {
   "cell_type": "markdown",
   "metadata": {},
   "source": [
    "### Fisikawan Favorit\n",
    "\n",
    "![isaacnewton](https://upload.wikimedia.org/wikipedia/commons/thumb/3/39/GodfreyKneller-IsaacNewton-1689.jpg/330px-GodfreyKneller-IsaacNewton-1689.jpg)\n",
    "#### Sir Isaac Newton\n",
    "Sir Isaac Newton (1643–1727) adalah seorang ilmuwan asal Inggris yang memberikan kontribusi besar dalam bidang matematika, fisika, dan astronomi. Ia dikenal sebagai penemu hukum gravitasi universal serta tiga hukum gerak yang menjadi dasar mekanika klasik. Dalam bidang optika, Newton mengembangkan teleskop refleksi dan melakukan penelitian mengenai spektrum cahaya putih yang dapat diuraikan menjadi berbagai warna. Ia juga berperan dalam pengembangan kalkulus, meskipun temuannya ini diperdebatkan dengan matematikawan lain, Gottfried Wilhelm Leibniz. Karyanya yang paling berpengaruh, Philosophiæ Naturalis Principia Mathematica, menjadi fondasi utama dalam ilmu fisika dan mengubah cara pandang manusia terhadap alam semesta.\n",
    "\n",
    "Sumber : [Wikipedia/IsaacNewton](https://id.wikipedia.org/wiki/Isaac_Newton)"
   ]
  },
  {
   "cell_type": "markdown",
   "metadata": {},
   "source": [
    "### Mata Kuliah Yang Sedang Berjalan\n",
    "\n",
    "| Kode Mata Kuliah| Nama Mata Kuliah | Kode Dosen |\n",
    "| :---: | :---: | :---: |\n",
    "| `AZK2EAB3` | Elektromagnetika | ISR |\n",
    "| `ADK2FAB3` | Gelombang dan Akustika | SPI |\n",
    "| `ADK2IAB3` | Elektronika Digital | IDC |\n",
    "| `ADK2LAB1` | Praktikum Teknik Fisika 2 | IDC |\n",
    "| `ADK2MAB3` | Teknik Komputasi | RWG |\n",
    "| `ADK2HAB3` | Mekanika Fluida | YDH |\n",
    "| `ADK2JAB3` | Analisis Termal | MRK |\n",
    "| `ADK2KAB3` | Fungsi Kompleks | SWI |"
   ]
  },
  {
   "cell_type": "markdown",
   "metadata": {},
   "source": [
    "### Identitas Trigonometri\n",
    "\n",
    "$\\cos(\\alpha \\pm \\beta) = \\cos \\alpha \\cos \\beta \\mp \\sin \\alpha \\sin \\beta$"
   ]
  },
  {
   "cell_type": "markdown",
   "metadata": {},
   "source": [
    "### Integral Tak Tentu\n",
    "$\\int \\frac{1}{1+x^2}\\mathrm{d}x = \\arctan x + C$"
   ]
  },
  {
   "cell_type": "markdown",
   "metadata": {},
   "source": [
    "### Persamaan Navier Stokes\n",
    "$\\frac{\\partial \\mathbf{u}}{\\partial t} + (\\mathbf{u}  \\cdot \\nabla)\\mathbf{u} - \\nu \\nabla^2\\mathbf{u} = - \\nabla w + \\mathbf{g}$"
   ]
  },
  {
   "cell_type": "markdown",
   "metadata": {},
   "source": [
    "### Deret Taylor\n",
    "$\\sum_{n=0}^{\\infty} \\frac{f^{(n)}(a)}{n!}(x - a)^n$"
   ]
  },
  {
   "cell_type": "markdown",
   "metadata": {},
   "source": [
    "### Matriks Invers\n",
    "$$\n",
    "\\begin{bmatrix}\n",
    "a & b\n",
    "\\\\\n",
    "c & d\n",
    "\\end{bmatrix}^{-1} = \\frac{1}{ad - bc} \\begin{bmatrix}\n",
    "d & -b\n",
    "\\\\\n",
    "-c & a\n",
    "\\end{bmatrix}\n",
    "$$"
   ]
  },
  {
   "cell_type": "code",
   "execution_count": 1,
   "metadata": {},
   "outputs": [
    {
     "name": "stdout",
     "output_type": "stream",
     "text": [
      "Aproksimasi Taylor orde 2 untuk cos(pi/3): 0.451689\n",
      "Nilai eksak cos(pi/3): 0.500000\n",
      "Galat pemotongan (sisa Lagrange): 0.165754\n",
      "Galat absolut: 0.048311\n",
      "Aproksimasi tidak diterima karena galat lebih besar dari toleransi.\n"
     ]
    }
   ],
   "source": [
    "import math\n",
    "\n",
    "# Fungsi untuk menghitung aproksimasi Taylor orde 2\n",
    "def taylor_cos_approx(x):\n",
    "    return 1 - (x**2) / 2\n",
    "\n",
    "# Fungsi untuk menghitung galat pemotongan menggunakan sisa Lagrange\n",
    "def truncation_error(x):\n",
    "    xi = x  # Asumsi nilai ξ = x untuk estimasi maksimum\n",
    "    remainder = (math.sin(xi) / math.factorial(3)) * (x**3)\n",
    "    return abs(remainder)\n",
    "\n",
    "# Parameter\n",
    "x = math.pi / 3  # x = π/3\n",
    "actual_cos = math.cos(x)  # Nilai eksak cos(π/3)\n",
    "approx_cos = taylor_cos_approx(x)  # Nilai aproksimasi\n",
    "t_error = truncation_error(x)  # Galat pemotongan\n",
    "absolute_error = abs(actual_cos - approx_cos)  # Selisih antara aproksimasi dan nilai eksak\n",
    "\n",
    "# Menampilkan hasil\n",
    "print(f\"Aproksimasi Taylor orde 2 untuk cos(pi/3): {approx_cos:.6f}\")\n",
    "print(f\"Nilai eksak cos(pi/3): {actual_cos:.6f}\")\n",
    "print(f\"Galat pemotongan (sisa Lagrange): {t_error:.6f}\")\n",
    "print(f\"Galat absolut: {absolute_error:.6f}\")\n",
    "\n",
    "# Evaluasi apakah aproksimasi diterima\n",
    "tolerance = 1e-4\n",
    "if absolute_error < tolerance:\n",
    "    print(\"Aproksimasi diterima karena galat lebih kecil dari toleransi.\")\n",
    "else:\n",
    "    print(\"Aproksimasi tidak diterima karena galat lebih besar dari toleransi.\")"
   ]
  },
  {
   "cell_type": "code",
   "execution_count": 2,
   "metadata": {},
   "outputs": [
    {
     "name": "stdout",
     "output_type": "stream",
     "text": [
      "Bilangan: 7.25\n",
      "Representasi IEEE 754 (32-bit): 01000000111010000000000000000000\n",
      "Tanda: 0\n",
      "Eksponen: 10000001 (Desimal: 129)\n",
      "Mantisa: 11010000000000000000000\n"
     ]
    }
   ],
   "source": [
    "import struct\n",
    "\n",
    "def float_to_ieee754(num):\n",
    "    \"\"\"Mengonversi bilangan floating-point ke format IEEE 754 (32-bit)\"\"\"\n",
    "    # Gunakan struct untuk mendapatkan representasi biner dalam bentuk integer\n",
    "    packed = struct.pack('!f', num)  # '!' untuk big-endian, 'f' untuk float 32-bit\n",
    "    binary = ''.join(f'{byte:08b}' for byte in packed)  # Konversi ke biner\n",
    "    \n",
    "    # Pisahkan menjadi tiga komponen: tanda, eksponen, dan mantisa\n",
    "    sign = binary[0]  # Bit pertama adalah tanda\n",
    "    exponent = binary[1:9]  # 8 bit berikutnya adalah eksponen\n",
    "    mantissa = binary[9:]  # 23 bit terakhir adalah mantisa\n",
    "    \n",
    "    return sign, exponent, mantissa, binary\n",
    "\n",
    "# Contoh penggunaan\n",
    "num = 7.25\n",
    "sign, exponent, mantissa, binary_repr = float_to_ieee754(num)\n",
    "\n",
    "print(f\"Bilangan: {num}\")\n",
    "print(f\"Representasi IEEE 754 (32-bit): {binary_repr}\")\n",
    "print(f\"Tanda: {sign}\")\n",
    "print(f\"Eksponen: {exponent} (Desimal: {int(exponent, 2)})\")\n",
    "print(f\"Mantisa: {mantissa}\")"
   ]
  }
 ],
 "metadata": {
  "kernelspec": {
   "display_name": ".venv",
   "language": "python",
   "name": "python3"
  },
  "language_info": {
   "codemirror_mode": {
    "name": "ipython",
    "version": 3
   },
   "file_extension": ".py",
   "mimetype": "text/x-python",
   "name": "python",
   "nbconvert_exporter": "python",
   "pygments_lexer": "ipython3",
   "version": "3.11.0"
  }
 },
 "nbformat": 4,
 "nbformat_minor": 2
}
