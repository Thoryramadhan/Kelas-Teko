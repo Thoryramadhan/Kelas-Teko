{
 "cells": [
  {
   "cell_type": "markdown",
   "metadata": {},
   "source": [
    "# Pencarian Akar Persamaan Non-Linear: Metode Regula Falsi dan Metode Secant\n",
    "\n",
    "## 1. Metode Regula Falsi (False Position)\n",
    "\n",
    "### Pendahuluan / Motivasi\n",
    "Metode Regula Falsi adalah metode numerik yang digunakan untuk menemukan akar-akar dari suatu persamaan non-linear. Metode ini menggabungkan keunggulan dari metode Bisection (pembatasan akar) dan metode Newton-Raphson (pendekatan lebih cepat). Kelebihan metode ini adalah lebih cepat konvergen dibandingkan Bisection pada kasus tertentu, dan tetap menjaga akar berada dalam interval yang dibatasi.\n",
    "\n",
    "### Algoritma dan Pseudocode\n",
    "1. Tentukan batas awal `a` dan `b` sehingga f(a) * f(b) < 0\n",
    "2. Hitung `c = a - f(a)*(b - a) / (f(b) - f(a))`\n",
    "3. Evaluasi `f(c)`\n",
    "4. Jika |f(c)| < toleransi atau jumlah iterasi maksimal tercapai, maka `c` adalah akar\n",
    "5. Jika f(a) * f(c) < 0, maka `b = c`, else `a = c`\n",
    "6. Ulangi langkah 2\n",
    "\n",
    "```python\n",
    "# Pseudocode\n",
    "while |f(c)| > tolerance and iter < max_iter:\n",
    "    c = a - f(a) * (b - a) / (f(b) - f(a))\n",
    "    if f(a) * f(c) < 0:\n",
    "        b = c\n",
    "    else:\n",
    "        a = c\n"
   ]
  },
  {
   "cell_type": "code",
   "execution_count": 48,
   "metadata": {},
   "outputs": [
    {
     "name": "stdout",
     "output_type": "stream",
     "text": [
      "Iterasi   a         b         c              f(c)           \n",
      "------------------------------------------------------------\n",
      "1         0.00000   5.00000   136.30916      -51.52572      \n",
      "2         0.00000   136.30916 5.00000        1.89003        \n",
      "3         5.00000   136.30916 9.64617        1.69414        \n",
      "4         9.64617   136.30916 13.67820       1.42341        \n",
      "5         13.67820  136.30916 16.97483       1.13250        \n",
      "6         16.97483  136.30916 19.54132       0.86271        \n",
      "7         19.54132  136.30916 21.46420       0.63573        \n",
      "8         21.46420  136.30916 22.86389       0.45711        \n",
      "9         22.86389  136.30916 23.86147       0.32293        \n",
      "10        23.86147  136.30916 24.56183       0.22530        \n",
      "11        24.56183  136.30916 25.04832       0.15582        \n",
      "12        25.04832  136.30916 25.38377       0.10712        \n",
      "13        25.38377  136.30916 25.61390       0.07333        \n",
      "14        25.61390  136.30916 25.77122       0.05006        \n",
      "15        25.77122  136.30916 25.87851       0.03411        \n",
      "16        25.87851  136.30916 25.95157       0.02321        \n",
      "17        25.95157  136.30916 26.00125       0.01578        \n",
      "18        26.00125  136.30916 26.03502       0.01072        \n",
      "19        26.03502  136.30916 26.05796       0.00728        \n",
      "20        26.05796  136.30916 26.07353       0.00494        \n",
      "21        26.07353  136.30916 26.08410       0.00335        \n",
      "22        26.08410  136.30916 26.09128       0.00228        \n",
      "23        26.09128  136.30916 26.09615       0.00155        \n",
      "24        26.09615  136.30916 26.09945       0.00105        \n",
      "25        26.09945  136.30916 26.10170       0.00071        \n",
      "26        26.10170  136.30916 26.10322       0.00048        \n",
      "27        26.10322  136.30916 26.10425       0.00033        \n",
      "28        26.10425  136.30916 26.10495       0.00022        \n",
      "29        26.10495  136.30916 26.10543       0.00015        \n",
      "30        26.10543  136.30916 26.10575       0.00010        \n",
      "31        26.10575  136.30916 26.10597       0.00007        \n",
      "32        26.10597  136.30916 26.10612       0.00005        \n",
      "33        26.10612  136.30916 26.10622       0.00003        \n",
      "34        26.10622  136.30916 26.10629       0.00002        \n",
      "35        26.10629  136.30916 26.10633       0.00001        \n",
      "36        26.10633  136.30916 26.10637       0.00001        \n",
      "37        26.10637  136.30916 26.10639       0.00001        \n",
      "38        26.10639  136.30916 26.10640       0.00000        \n",
      "39        26.10640  136.30916 26.10641       0.00000        \n",
      "40        26.10641  136.30916 26.10642       0.00000        \n",
      "41        26.10642  136.30916 26.10642       0.00000        \n",
      "42        26.10642  136.30916 26.10643       0.00000        \n",
      "\n",
      "Regula Falsi root: 26.10643 in 42 iterations\n"
     ]
    }
   ],
   "source": [
    "def regula_falsi(f, a, b, tol=1e-6, max_iter=100):\n",
    "    print(f\"{'Iterasi':<10}{'a':<10}{'b':<10}{'c':<15}{'f(c)':<15}\")\n",
    "    print(\"-\" * 60)\n",
    "    for i in range(1, max_iter + 1):\n",
    "        c = a - f(a) * (b - a) / (f(b) - f(a))\n",
    "        print(f\"{i:<10}{a:<10.5f}{b:<10.5f}{c:<15.5f}{f(c):<15.5f}\")\n",
    "        if abs(f(c)) < tol:\n",
    "            return c, i\n",
    "        elif f(a) * f(c) < 0:\n",
    "            b = c\n",
    "        else:\n",
    "            a = c\n",
    "    return c, max_iter\n",
    "\n",
    "\n",
    "# Parameter fisika\n",
    "m, g, rho, Cd, A = 0.2, 9.81, 1.225, 0.47, 0.01\n",
    "f = lambda v: m * g - 0.5 * rho * Cd * A * v**2\n",
    "\n",
    "# Regula Falsi\n",
    "root_rf, iter_rf = regula_falsi(f, 0, 5)\n",
    "print(f\"\\nRegula Falsi root: {root_rf:.5f} in {iter_rf} iterations\")\n"
   ]
  },
  {
   "cell_type": "markdown",
   "metadata": {},
   "source": [
    "\n",
    "## 2. Metode Secant\n",
    "\n",
    "### Pendahuluan / Motivasi\n",
    "Metode Secant adalah metode numerik terbuka untuk mencari akar yang menggunakan dua titik awal tanpa memerlukan turunan seperti pada Newton-Raphson. Metode ini sering digunakan saat turunan fungsi sulit dihitung.\n",
    "\n",
    "### Algoritma dan Pseudocode\n",
    "1. Tentukan dua tebakan awal `x0` dan `x1`\n",
    "2. Hitung `x2 = x1 - f(x1) * (x1 - x0) / (f(x1) - f(x0))`\n",
    "4. Perbarui `x0` = `x1` dan `x1` = `x2`\n",
    "5. Ulangi sampai `|f(x2)|` < toleransi atau iterasi maksimal tercapai\n",
    "\n",
    "# Pseudocode\n",
    "```python\n",
    "while |f(x1)| > tolerance and iter < max_iter:\n",
    "    x2 = x1 - f(x1) * (x1 - x0) / (f(x1) - f(x0))\n",
    "    x0, x1 = x1, x2\n"
   ]
  },
  {
   "cell_type": "code",
   "execution_count": 46,
   "metadata": {},
   "outputs": [
    {
     "name": "stdout",
     "output_type": "stream",
     "text": [
      "Iterasi   a (x0)    b (x1)    c (x2)         f(c)           \n",
      "------------------------------------------------------------\n",
      "1         0.00000   5.00000   136.30916      -51.52572      \n",
      "2         5.00000   136.30916 9.64617        1.69414        \n",
      "3         136.30916 9.64617   13.67820       1.42341        \n",
      "4         9.64617   13.67820  34.87717       -1.53976       \n",
      "5         13.67820  34.87717  23.86147       0.32293        \n",
      "6         34.87717  23.86147  25.77122       0.05006        \n",
      "7         23.86147  25.77122  26.12159       -0.00228       \n",
      "8         25.77122  26.12159  26.10633       0.00001        \n",
      "9         26.12159  26.10633  26.10643       0.00000        \n",
      "\n",
      "Secant root: 26.10643 in 9 iterations\n"
     ]
    }
   ],
   "source": [
    "def secant(f, x0, x1, tol=1e-6, max_iter=100):\n",
    "    print(f\"{'Iterasi':<10}{'a (x0)':<10}{'b (x1)':<10}{'c (x2)':<15}{'f(c)':<15}\")\n",
    "    print(\"-\" * 60)\n",
    "    for i in range(1, max_iter + 1):\n",
    "        if f(x1) - f(x0) == 0:\n",
    "            print(\"Dibagi nol!\")\n",
    "            return None, i\n",
    "        x2 = x1 - f(x1) * (x1 - x0) / (f(x1) - f(x0))\n",
    "        print(f\"{i:<10}{x0:<10.5f}{x1:<10.5f}{x2:<15.5f}{f(x2):<15.5f}\")\n",
    "        if abs(f(x2)) < tol:\n",
    "            return x2, i\n",
    "        x0, x1 = x1, x2\n",
    "    return x2, max_iter\n",
    "\n",
    "# Parameter fisika\n",
    "m, g, rho, Cd, A = 0.2, 9.81, 1.225, 0.47, 0.01\n",
    "f = lambda v: m * g - 0.5 * rho * Cd * A * v**2\n",
    "\n",
    "# Secant\n",
    "root_sec, iter_sec = secant(f, 0, 5)\n",
    "print(f\"\\nSecant root: {root_sec:.5f} in {iter_sec} iterations\")"
   ]
  },
  {
   "cell_type": "markdown",
   "metadata": {},
   "source": [
    "### Kecepatan Terminal pada Gerak Jatuh dengan Drag\n",
    "\n",
    "Kecepatan terminal terjadi ketika gaya gravitasi (mg) setara dengan gaya hambat udara (drag force):\n",
    "\n",
    "**f(v) = mg - 0.5 * ρ * C_d * A * v² = 0**\n",
    "\n",
    "Dimana:\n",
    "- **m** = massa benda (kg)\n",
    "- **ρ** = kerapatan udara (kg/m³)\n",
    "- **C_d** = koefisien drag (tanpa satuan)\n",
    "- **A** = luas penampang (m²)\n",
    "- **v** = kecepatan (m/s)\n",
    "\n",
    "Kecepatan terminal **v_t** dicapai saat percepatan benda nol (gaya total = 0).\n"
   ]
  }
 ],
 "metadata": {
  "kernelspec": {
   "display_name": "Python 3",
   "language": "python",
   "name": "python3"
  },
  "language_info": {
   "codemirror_mode": {
    "name": "ipython",
    "version": 3
   },
   "file_extension": ".py",
   "mimetype": "text/x-python",
   "name": "python",
   "nbconvert_exporter": "python",
   "pygments_lexer": "ipython3",
   "version": "3.11.9"
  }
 },
 "nbformat": 4,
 "nbformat_minor": 2
}
